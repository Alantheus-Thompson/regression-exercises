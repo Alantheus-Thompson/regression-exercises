{
 "cells": [
  {
   "cell_type": "code",
   "execution_count": 1,
   "id": "a621d04c",
   "metadata": {},
   "outputs": [],
   "source": [
    "import env as e\n",
    "import wrangle as w\n",
    "import pandas as pd\n",
    "import numpy as np\n",
    "import seaborn as sns\n",
    "from scipy import stats\n",
    "import matplotlib.pyplot as plt\n",
    "from sklearn.model_selection import train_test_split\n",
    "import os\n"
   ]
  },
  {
   "cell_type": "markdown",
   "id": "4c86e818",
   "metadata": {},
   "source": [
    "# Wrangle (Acquire & Prepare Zillow Data)"
   ]
  },
  {
   "cell_type": "code",
   "execution_count": 5,
   "id": "c3ce378e",
   "metadata": {},
   "outputs": [
    {
     "data": {
      "text/html": [
       "<div>\n",
       "<style scoped>\n",
       "    .dataframe tbody tr th:only-of-type {\n",
       "        vertical-align: middle;\n",
       "    }\n",
       "\n",
       "    .dataframe tbody tr th {\n",
       "        vertical-align: top;\n",
       "    }\n",
       "\n",
       "    .dataframe thead th {\n",
       "        text-align: right;\n",
       "    }\n",
       "</style>\n",
       "<table border=\"1\" class=\"dataframe\">\n",
       "  <thead>\n",
       "    <tr style=\"text-align: right;\">\n",
       "      <th></th>\n",
       "      <th>bedrooms</th>\n",
       "      <th>bathrooms</th>\n",
       "      <th>sqft</th>\n",
       "      <th>appraisal</th>\n",
       "      <th>year built</th>\n",
       "      <th>taxes</th>\n",
       "      <th>county</th>\n",
       "    </tr>\n",
       "  </thead>\n",
       "  <tbody>\n",
       "    <tr>\n",
       "      <th>778024</th>\n",
       "      <td>3</td>\n",
       "      <td>2.0</td>\n",
       "      <td>1786.0</td>\n",
       "      <td>118729.0</td>\n",
       "      <td>1975</td>\n",
       "      <td>1951.51</td>\n",
       "      <td>LA</td>\n",
       "    </tr>\n",
       "    <tr>\n",
       "      <th>1646075</th>\n",
       "      <td>5</td>\n",
       "      <td>4.0</td>\n",
       "      <td>5196.0</td>\n",
       "      <td>1882000.0</td>\n",
       "      <td>1991</td>\n",
       "      <td>20657.16</td>\n",
       "      <td>Orange</td>\n",
       "    </tr>\n",
       "    <tr>\n",
       "      <th>1905298</th>\n",
       "      <td>5</td>\n",
       "      <td>5.0</td>\n",
       "      <td>3821.0</td>\n",
       "      <td>730570.0</td>\n",
       "      <td>2007</td>\n",
       "      <td>8962.66</td>\n",
       "      <td>LA</td>\n",
       "    </tr>\n",
       "    <tr>\n",
       "      <th>620197</th>\n",
       "      <td>3</td>\n",
       "      <td>2.0</td>\n",
       "      <td>1192.0</td>\n",
       "      <td>289462.0</td>\n",
       "      <td>1950</td>\n",
       "      <td>3794.69</td>\n",
       "      <td>LA</td>\n",
       "    </tr>\n",
       "    <tr>\n",
       "      <th>393229</th>\n",
       "      <td>3</td>\n",
       "      <td>2.0</td>\n",
       "      <td>1405.0</td>\n",
       "      <td>205785.0</td>\n",
       "      <td>1928</td>\n",
       "      <td>2635.78</td>\n",
       "      <td>LA</td>\n",
       "    </tr>\n",
       "  </tbody>\n",
       "</table>\n",
       "</div>"
      ],
      "text/plain": [
       "         bedrooms  bathrooms    sqft  appraisal  year built     taxes  county\n",
       "778024          3        2.0  1786.0   118729.0        1975   1951.51      LA\n",
       "1646075         5        4.0  5196.0  1882000.0        1991  20657.16  Orange\n",
       "1905298         5        5.0  3821.0   730570.0        2007   8962.66      LA\n",
       "620197          3        2.0  1192.0   289462.0        1950   3794.69      LA\n",
       "393229          3        2.0  1405.0   205785.0        1928   2635.78      LA"
      ]
     },
     "execution_count": 5,
     "metadata": {},
     "output_type": "execute_result"
    }
   ],
   "source": [
    "train, validate, test=w.wrangle_function()\n",
    "train.head()"
   ]
  },
  {
   "cell_type": "markdown",
   "id": "01d4c352",
   "metadata": {},
   "source": [
    "# Explore Data"
   ]
  },
  {
   "cell_type": "code",
   "execution_count": null,
   "id": "86de48a3",
   "metadata": {},
   "outputs": [],
   "source": []
  }
 ],
 "metadata": {
  "kernelspec": {
   "display_name": "Python 3 (ipykernel)",
   "language": "python",
   "name": "python3"
  },
  "language_info": {
   "codemirror_mode": {
    "name": "ipython",
    "version": 3
   },
   "file_extension": ".py",
   "mimetype": "text/x-python",
   "name": "python",
   "nbconvert_exporter": "python",
   "pygments_lexer": "ipython3",
   "version": "3.11.5"
  }
 },
 "nbformat": 4,
 "nbformat_minor": 5
}
